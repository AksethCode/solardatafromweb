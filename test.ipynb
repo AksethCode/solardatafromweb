{
 "cells": [
  {
   "cell_type": "code",
   "execution_count": 4,
   "metadata": {},
   "outputs": [
    {
     "name": "stdout",
     "output_type": "stream",
     "text": [
      "{'company': {'about': 'Apple is a multinational corporation that designs, manufactures, and markets consumer electronics, personal computers, and software.', 'crunchbase_url': 'https://www.crunchbase.com/organization/apple', 'founded_year': 'Apr 1, 1976', 'funding': '$6.2B', 'industries': ['Consumer Electronics', 'Hardware', 'Mobile Devices', 'Operating Systems', 'Wearables'], 'location': 'Cupertino, California, United States', 'long_description': 'Apple is a multinational corporation that designs, manufactures, and markets mobile communication and media devices, personal computers, portable digital music players, and sells a variety of related software, services, peripherals, networking solutions, and third-party digital content and applications.\\nApple provides many products and services, including iPhone; iPad; iPod; Mac; Apple TV; a portfolio of consumer and professional software applications; the iOS and OS X operating systems; iCloud; and accessories, service, and support offerings. It sells its products worldwide through its retail stores, online stores, direct sales force and third-party cellular network carriers, wholesalers, retailers, and value-added resellers to the consumer and also sells third-party iPhone, iPad, Mac and iPod compatible products, including application software and accessories through its online and retail stores.Introduced in 1984, the Macintosh was the first widely sold personal computer with a graphical user interface (GUI). That feature and others such as an improved floppy drive design and a low-cost hard drive that made data retrieval faster helped Apple cultivate a reputation for innovation.Apple was named as the most admired company in the United States in 2008 and in the world from 2008 to 2012 by the Fortune magazine.The company was founded by Steven Paul Jobs, Steve Wozniak, and Ronald Gerald Wayne on April 1, 1976, and is headquartered in Cupertino, California.', 'size': '10001+', 'website': 'www.apple.com'}}\n"
     ]
    }
   ],
   "source": [
    "import requests\n",
    "\n",
    "url = \"https://crunchbase4.p.rapidapi.com/company\"\n",
    "\n",
    "payload = { \"company_domain\": \"apple\" }\n",
    "headers = {\n",
    "\t\"content-type\": \"application/json\",\n",
    "\t\"X-RapidAPI-Key\": \"ba17ba140bmsh573d34e4e2d3e8ep1aefcfjsncdcd896eaaff\",\n",
    "\t\"X-RapidAPI-Host\": \"crunchbase4.p.rapidapi.com\"\n",
    "}\n",
    "\n",
    "response = requests.post(url, json=payload, headers=headers)\n",
    "\n",
    "print(response.json())"
   ]
  }
 ],
 "metadata": {
  "kernelspec": {
   "display_name": "Python 3",
   "language": "python",
   "name": "python3"
  },
  "language_info": {
   "codemirror_mode": {
    "name": "ipython",
    "version": 3
   },
   "file_extension": ".py",
   "mimetype": "text/x-python",
   "name": "python",
   "nbconvert_exporter": "python",
   "pygments_lexer": "ipython3",
   "version": "3.11.5"
  },
  "orig_nbformat": 4
 },
 "nbformat": 4,
 "nbformat_minor": 2
}
